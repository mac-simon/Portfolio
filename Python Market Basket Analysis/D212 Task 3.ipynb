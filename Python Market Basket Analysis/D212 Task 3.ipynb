{
 "cells": [
  {
   "cell_type": "code",
   "execution_count": 13,
   "metadata": {},
   "outputs": [],
   "source": [
    "import numpy as np\n",
    "import pandas as pd"
   ]
  },
  {
   "cell_type": "code",
   "execution_count": 14,
   "metadata": {},
   "outputs": [],
   "source": [
    "#cleaning our data\n",
    "df = pd.read_csv('churn_clean.csv')\n",
    "df\n",
    "df_new = df[['Phone','Tablet','Multiple','OnlineSecurity','OnlineBackup','DeviceProtection']]\n",
    "df_new = pd.get_dummies(df_new, drop_first=True)\n",
    "df_new.to_csv ('cleaned_data_d212_task3.csv')"
   ]
  },
  {
   "cell_type": "code",
   "execution_count": 15,
   "metadata": {},
   "outputs": [],
   "source": [
    "# Import apriori from mlxtend\n",
    "from mlxtend.frequent_patterns import apriori"
   ]
  },
  {
   "cell_type": "code",
   "execution_count": 16,
   "metadata": {},
   "outputs": [
    {
     "name": "stdout",
     "output_type": "stream",
     "text": [
      "   support              itemsets\n",
      "0   0.9067           (Phone_Yes)\n",
      "1   0.2991          (Tablet_Yes)\n",
      "2   0.4608        (Multiple_Yes)\n",
      "3   0.3576  (OnlineSecurity_Yes)\n",
      "4   0.4506    (OnlineBackup_Yes)\n"
     ]
    }
   ],
   "source": [
    "# Compute frequent itemsets using the Apriori algorithm\n",
    "frequent_itemsets = apriori(df_new, min_support = .003, \n",
    "                            max_len = 1, \n",
    "                            use_colnames = True)\n",
    "print(frequent_itemsets.head())"
   ]
  },
  {
   "cell_type": "code",
   "execution_count": 17,
   "metadata": {},
   "outputs": [
    {
     "name": "stdout",
     "output_type": "stream",
     "text": [
      "            antecedents           consequents  antecedent support  \\\n",
      "0        (Multiple_Yes)           (Phone_Yes)              0.4608   \n",
      "1           (Phone_Yes)        (Multiple_Yes)              0.9067   \n",
      "2           (Phone_Yes)  (OnlineSecurity_Yes)              0.9067   \n",
      "3  (OnlineSecurity_Yes)           (Phone_Yes)              0.3576   \n",
      "\n",
      "   consequent support  support  confidence      lift  leverage  conviction  \n",
      "0              0.9067   0.4183    0.907769  1.001179  0.000493    1.011592  \n",
      "1              0.4608   0.4183    0.461343  1.001179  0.000493    1.001009  \n",
      "2              0.3576   0.3244    0.357781  1.000506  0.000164    1.000282  \n",
      "3              0.9067   0.3244    0.907159  1.000506  0.000164    1.004942  \n"
     ]
    }
   ],
   "source": [
    "from mlxtend.frequent_patterns import association_rules\n",
    "\n",
    "# Compute frequent itemsets using the Apriori algorithm\n",
    "frequent_itemsets = apriori(df_new, min_support = 0.3, \n",
    "                            max_len = 2, use_colnames = True)\n",
    "\n",
    "# Compute all association rules for frequent_itemsets\n",
    "rules = association_rules(frequent_itemsets, \n",
    "                            metric = \"lift\", \n",
    "                         min_threshold = 1.0)\n",
    "\n",
    "# Print association rules\n",
    "print(rules)"
   ]
  },
  {
   "cell_type": "code",
   "execution_count": 18,
   "metadata": {},
   "outputs": [
    {
     "name": "stdout",
     "output_type": "stream",
     "text": [
      "              antecedents  consequents  antecedent support  \\\n",
      "0            (Tablet_Yes)  (Phone_Yes)              0.2991   \n",
      "1          (Multiple_Yes)  (Phone_Yes)              0.4608   \n",
      "2    (OnlineSecurity_Yes)  (Phone_Yes)              0.3576   \n",
      "3      (OnlineBackup_Yes)  (Phone_Yes)              0.4506   \n",
      "4  (DeviceProtection_Yes)  (Phone_Yes)              0.4386   \n",
      "\n",
      "   consequent support  support  confidence      lift  leverage  conviction  \n",
      "0              0.9067   0.2745    0.917753  1.012191  0.003306    1.134391  \n",
      "1              0.9067   0.4183    0.907769  1.001179  0.000493    1.011592  \n",
      "2              0.9067   0.3244    0.907159  1.000506  0.000164    1.004942  \n",
      "3              0.9067   0.4081    0.905681  0.998876 -0.000459    0.989200  \n",
      "4              0.9067   0.3933    0.896717  0.988990 -0.004379    0.903342  \n"
     ]
    }
   ],
   "source": [
    "# Import the association rules function\n",
    "from mlxtend.frequent_patterns import apriori, association_rules\n",
    "\n",
    "# Compute frequent itemsets using the Apriori algorithm\n",
    "frequent_itemsets = apriori(df_new, min_support = 0.0015, \n",
    "                            max_len = 2, use_colnames = True)\n",
    "\n",
    "# Compute all association rules using confidence\n",
    "rules = association_rules(frequent_itemsets, \n",
    "                            metric = \"confidence\", \n",
    "                            min_threshold = 0.5)\n",
    "\n",
    "# Print association rules\n",
    "print(rules)"
   ]
  },
  {
   "cell_type": "code",
   "execution_count": 19,
   "metadata": {},
   "outputs": [
    {
     "name": "stdout",
     "output_type": "stream",
     "text": [
      "                antecedents  \\\n",
      "1               (Phone_Yes)   \n",
      "11           (Multiple_Yes)   \n",
      "13     (OnlineSecurity_Yes)   \n",
      "15       (OnlineBackup_Yes)   \n",
      "17   (DeviceProtection_Yes)   \n",
      "..                      ...   \n",
      "596          (Multiple_Yes)   \n",
      "597      (OnlineBackup_Yes)   \n",
      "598    (OnlineSecurity_Yes)   \n",
      "599             (Phone_Yes)   \n",
      "600  (DeviceProtection_Yes)   \n",
      "\n",
      "                                           consequents  antecedent support  \\\n",
      "1                                         (Tablet_Yes)              0.9067   \n",
      "11                                        (Tablet_Yes)              0.4608   \n",
      "13                                        (Tablet_Yes)              0.3576   \n",
      "15                                        (Tablet_Yes)              0.4506   \n",
      "17                                        (Tablet_Yes)              0.4386   \n",
      "..                                                 ...                 ...   \n",
      "596  (OnlineSecurity_Yes, OnlineBackup_Yes, Phone_Y...              0.4608   \n",
      "597  (Multiple_Yes, OnlineSecurity_Yes, Phone_Yes, ...              0.4506   \n",
      "598  (Multiple_Yes, OnlineBackup_Yes, Phone_Yes, De...              0.3576   \n",
      "599  (Multiple_Yes, OnlineSecurity_Yes, OnlineBacku...              0.9067   \n",
      "600  (Multiple_Yes, OnlineSecurity_Yes, OnlineBacku...              0.4386   \n",
      "\n",
      "     consequent support  support  confidence      lift  leverage  conviction  \n",
      "1                0.2991   0.2745    0.302746  1.012191  0.003306    1.005229  \n",
      "11               0.2991   0.1333    0.289280  0.967167 -0.004525    0.986182  \n",
      "13               0.2991   0.1089    0.304530  1.018155  0.001942    1.007808  \n",
      "15               0.2991   0.1340    0.297381  0.994254 -0.000774    0.997554  \n",
      "17               0.2991   0.1299    0.296170  0.990203 -0.001285    0.995837  \n",
      "..                  ...      ...         ...       ...       ...         ...  \n",
      "596              0.0204   0.0085    0.018446  0.904225 -0.000900    0.998009  \n",
      "597              0.0179   0.0085    0.018864  1.053840  0.000434    1.000982  \n",
      "598              0.0238   0.0085    0.023770  0.998722 -0.000011    0.999969  \n",
      "599              0.0092   0.0085    0.009375  1.018984  0.000158    1.000176  \n",
      "600              0.0191   0.0085    0.019380  1.014652  0.000123    1.000285  \n",
      "\n",
      "[162 rows x 9 columns]\n"
     ]
    }
   ],
   "source": [
    "# Apply the apriori algorithm with a minimum support of 0.0001\n",
    "frequent_itemsets = apriori(df_new, min_support = 0.0001, use_colnames = True)\n",
    "\n",
    "# Generate the initial set of rules using a minimum support of 0.0001\n",
    "rules = association_rules(frequent_itemsets, \n",
    "                          metric = \"support\", min_threshold = 0.0001)\n",
    "\n",
    "# Set minimum antecedent support to 0.35\n",
    "rules = rules[rules['antecedent support'] > 0.35]\n",
    "\n",
    "# Set maximum consequent support to 0.35\n",
    "rules = rules[rules['consequent support'] < 0.35]\n",
    "\n",
    "# Print the remaining rules\n",
    "print(rules)"
   ]
  },
  {
   "cell_type": "code",
   "execution_count": null,
   "metadata": {},
   "outputs": [],
   "source": []
  }
 ],
 "metadata": {
  "kernelspec": {
   "display_name": "Python 3",
   "language": "python",
   "name": "python3"
  },
  "language_info": {
   "codemirror_mode": {
    "name": "ipython",
    "version": 3
   },
   "file_extension": ".py",
   "mimetype": "text/x-python",
   "name": "python",
   "nbconvert_exporter": "python",
   "pygments_lexer": "ipython3",
   "version": "3.8.5"
  }
 },
 "nbformat": 4,
 "nbformat_minor": 4
}
